{
 "cells": [
  {
   "cell_type": "code",
   "execution_count": 18,
   "id": "4f120934",
   "metadata": {},
   "outputs": [],
   "source": [
    "#Pankhuri Singhal\n",
    "#4/20/2024\n",
    "import numpy as np\n",
    "import random\n",
    "from collections import Counter\n",
    "\n"
   ]
  },
  {
   "cell_type": "code",
   "execution_count": 19,
   "id": "18bb4d39",
   "metadata": {
    "scrolled": true
   },
   "outputs": [],
   "source": [
    "#need a do while loop to run the first iteration before anything else\n",
    "#do need to display \"found\" topics as I go thru puzzle\n",
    "num_mistakes_left = 4 #resetting the value\n",
    "board_dict = {}\n",
    "\n",
    "#creating the initial dictionary to inform the puzzle board\n",
    "def create_dictionary(): \n",
    "    #prompt: using the words in iCloud notes, create a connections puzzle\n",
    "    #initialize vars - no data types!\n",
    "    num_mistakes_left = 4\n",
    "\n",
    "    #use enums for difficulty levels? or list?\n",
    "    #difficulty_levels = [\"yellow\", \"green\", \"blue\", \"purple\"] #didn't end up using these in V1\n",
    "\n",
    "    #how to select words? type words? index?\n",
    "    #if index, no shuffling allowed\n",
    "    #shuffling = nice to have\n",
    "\n",
    "    #create a dictionary of lists (lists = lists of words, in the values; topic names = keys)\n",
    "\n",
    "    #https://www.geeksforgeeks.org/python-ways-to-create-a-dictionary-of-lists/ \n",
    "    global board_dict\n",
    "    board_dict[\"Endings of Places You've Visited\"] = [\"NICE\", \"BERG\", \"DAM\", \"LAND\"] \n",
    "    board_dict[\"Inside Jokes\"] = [\"RINGS\", \"BLOOD\", \"SONG\", \"STOLE\"] \n",
    "    board_dict[\"Gifts Received/Given\"] = [\"PHOTO\", \"RING\", \"TRAVEL\", \"PARTY\"]\n",
    "    board_dict[\"Things At Your Wedding\"] = [\"FLOWERS\", \"SWEETS\", \"GOLD\", \"FIRE\"]\n",
    "\n",
    "    board_unshuffled = list(board_dict.values()) #connections words\n",
    "    return board_unshuffled\n",
    "\n",
    "    \n",
    "    \n",
    "#create the first part of the decimal -- quarternary -- coordinates translation: shuffling 16 numbers for a shuffled\n",
    "#board\n",
    "def create_dec_shuffled(): \n",
    "    presentation_indeces = list(range(16))\n",
    "    presentation_indeces\n",
    "\n",
    "    random.shuffle(presentation_indeces)\n",
    "    return presentation_indeces\n",
    "\n",
    "    \n",
    "    \n",
    "#decimal to quarternary translator\n",
    "def dec_to_quarternary(dec_list):\n",
    "    quarternary_coords_for_presentation = [] #it must be a list of strings, then we can convert to num type later\n",
    "        #also, if the quart number has only 1 digit, append a 0 before it so we have proper coordinates\n",
    "    #loop thru decimal list, creating a quarternary num for each, and then append to quart list\n",
    "    for the_dec in dec_list:\n",
    "        if (the_dec == 0):\n",
    "            quarternary_coords_for_presentation.append(\"00\")\n",
    "            #print(\"found 0\") #flag\n",
    "            continue #skip this iteration\n",
    "        elif (the_dec < 4): #if 1, 2, 3 (in the single digits)\n",
    "            #print(\"len = 1 in loop\")\n",
    "            quarternary_coords_for_presentation.append(\"0\" + str(the_dec))\n",
    "        else:\n",
    "            res = \"\"\n",
    "            while the_dec > 0:\n",
    "                remainder = the_dec % 4\n",
    "                #print(\"remainder: \", remainder)\n",
    "                res = str(remainder) + res\n",
    "                #print(\"result: \", res)\n",
    "                the_dec //= 4 #using floor division, truncating the digit at the decimal\n",
    "            #print(\"found nonzero\") #flag\n",
    "            quarternary_coords_for_presentation.append(res)\n",
    "    return quarternary_coords_for_presentation\n",
    "\n",
    "#quarternary_coords_for_presentation\n",
    "\n",
    "\n",
    "\n",
    "#quarternary to coordinates translator which creates the final shuffled board\n",
    "def create_shuffled_board(quarternary_coords_for_presentation): \n",
    "    #initilize the result (shuffled board) first\n",
    "    shuffled_board = []\n",
    "\n",
    "    #loop thru quarternary list and extract first & second char as vars for row and col\n",
    "    #then use int() to put in the shuffled board\n",
    "    for the_quart in quarternary_coords_for_presentation:\n",
    "        row = int(the_quart[0])\n",
    "        col = int(the_quart[1])\n",
    "        shuffled_board.append(board_unshuffled[row][col])\n",
    "        #print(\"adding\" + board_unshuffled[row][col]) #flag\n",
    "\n",
    "    #print(shuffled_board) #this is a 1d list, need to make it into a 2D list\n",
    "    shuffled_board_final = [shuffled_board[i:i+4] for i in range(0, len(shuffled_board), 4)]\n",
    "    return shuffled_board_final\n",
    "\n",
    "    \n",
    "#show the beginning instructions and board\n",
    "def show_intro_board(shuffled_board_final):\n",
    "    print(\"Welcome to NYT's Unofficial Connections: Anniversary! Group the sixteen words below into four categories.\")\n",
    "    print(\"Here's how it works:\")\n",
    "    print(\"\\t -In the prompt space below, enter the number of the words you'd like to guess, \\n\\t separated by a space.\")\n",
    "    print(\"\\t -Example: 1 2 3 4 (this guesses the first four words in the board).\")\n",
    "    print(\"\\t -Once you guess a topic correctly, the words in the board will be replaced with ---, \\n\\t\" +\n",
    "          \" so you won't be able to guess those words anymore.\")\n",
    "    display(shuffled_board_final)\n",
    "\n",
    "#create topic list for guesses (user input)     \n",
    "def create_topic_list(guess_list, board_dict):\n",
    "    #search for the word in guess_words within the dict and append topic to list, if not already appended\n",
    "    topic_list = []\n",
    "    for the_guess in guess_words:\n",
    "        for key, val in board_dict.items():\n",
    "            if the_guess in val:\n",
    "                topic_list.append(key)\n",
    "\n",
    "    return topic_list\n",
    "\n",
    "\n",
    "#get topic frequency from the topic list derived from guesses\n",
    "def get_topic_freqs(the_topic_list):\n",
    "    # # Count occurrences of elements in the list\n",
    "    topic_counts = Counter(topic_list)\n",
    "\n",
    "    # # Print the element counts\n",
    "    print()\n",
    "#     print(\"Topic counts:\")\n",
    "#     for topic, count in topic_counts.items():\n",
    "#         print(f\"{topic}: {count} occurrences\")\n",
    "\n",
    "    return topic_counts\n",
    "\n",
    "\n",
    "#replace words that correctly fit 1 topic with --- in the board\n",
    "def replace_correct_words(curr_board, correct_words):\n",
    "    for word in correct_words:\n",
    "        for row in range(len(curr_board)):\n",
    "            for col in range(len(curr_board[row])):\n",
    "                if curr_board[row][col] == word:\n",
    "                    curr_board[row][col] = \"---\"\n",
    "    return curr_board\n",
    "\n",
    "\n",
    "#run logic to deduct mistakes left\n",
    "def run_mistake_logic(topic_freqs, shuffled_board_final):\n",
    "    global num_mistakes_left\n",
    "    if len(topic_counts) == 1: #correct answer\n",
    "        the_topic = list(topic_counts.keys())[0] #there will be only one topic/one element in the list\n",
    "        #print(the_topic)\n",
    "        if the_topic in board_dict:\n",
    "            print()\n",
    "            print(f\"Correct! \\n {the_topic}: {board_dict[the_topic]}\")\n",
    "            #change elements in shuffled board to ---, show updated board, show user input\n",
    "            shuffled_board_final = replace_correct_words(shuffled_board_final, guess_words)\n",
    "            display(shuffled_board_final)\n",
    "    elif len(topic_counts) > 1: #leads to a mistake deduction\n",
    "        if 3 in topic_counts.values(): #one away\n",
    "            print()\n",
    "            print(\"One away...\")\n",
    "            #num_mistakes_left -= 1\n",
    "            #ask for user input\n",
    "        num_mistakes_left -= 1    \n",
    "    \n",
    "    \n"
   ]
  },
  {
   "cell_type": "code",
   "execution_count": 20,
   "id": "6c252f3e",
   "metadata": {
    "scrolled": true
   },
   "outputs": [
    {
     "name": "stdout",
     "output_type": "stream",
     "text": [
      "Welcome to NYT's Unofficial Connections: Anniversary! Group the sixteen words below into four categories.\n",
      "Here's how it works:\n",
      "\t -In the prompt space below, enter the number of the words you'd like to guess, \n",
      "\t separated by a space.\n",
      "\t -Example: 1 2 3 4 (this guesses the first four words in the board).\n",
      "\t -Once you guess a topic correctly, the words in the board will be replaced with ---, \n",
      "\t so you won't be able to guess those words anymore.\n"
     ]
    },
    {
     "data": {
      "text/plain": [
       "[['SONG', 'LAND', 'FLOWERS', 'PARTY'],\n",
       " ['SWEETS', 'BLOOD', 'BERG', 'GOLD'],\n",
       " ['STOLE', 'TRAVEL', 'FIRE', 'PHOTO'],\n",
       " ['RING', 'DAM', 'NICE', 'RINGS']]"
      ]
     },
     "metadata": {},
     "output_type": "display_data"
    },
    {
     "name": "stdout",
     "output_type": "stream",
     "text": [
      "You have  4  mistakes left.\n",
      "Enter your guesses as numbers: 1 3 4 8\n",
      "['SONG', 'FLOWERS', 'PARTY', 'GOLD']\n",
      "\n",
      "You have  3  mistakes left.\n",
      "Enter your guesses as numbers: 3 8 11 5\n",
      "['FLOWERS', 'GOLD', 'FIRE', 'SWEETS']\n",
      "\n",
      "\n",
      "Correct! \n",
      " Things At Your Wedding: ['FLOWERS', 'SWEETS', 'GOLD', 'FIRE']\n"
     ]
    },
    {
     "data": {
      "text/plain": [
       "[['SONG', 'LAND', '---', 'PARTY'],\n",
       " ['---', 'BLOOD', 'BERG', '---'],\n",
       " ['STOLE', 'TRAVEL', '---', 'PHOTO'],\n",
       " ['RING', 'DAM', 'NICE', 'RINGS']]"
      ]
     },
     "metadata": {},
     "output_type": "display_data"
    },
    {
     "name": "stdout",
     "output_type": "stream",
     "text": [
      "You have  3  mistakes left.\n",
      "Enter your guesses as numbers: 3 1 12 13\n",
      "['---', 'SONG', 'PHOTO', 'RING']\n",
      "Sorry, you cannot use a word from a correct guess in your current guess. Please try again:\n",
      "\n",
      "You have  3  mistakes left.\n",
      "Enter your guesses as numbers: 2 7 14 15\n",
      "['LAND', 'BERG', 'DAM', 'NICE']\n",
      "\n",
      "\n",
      "Correct! \n",
      " Endings of Places You've Visited: ['NICE', 'BERG', 'DAM', 'LAND']\n"
     ]
    },
    {
     "data": {
      "text/plain": [
       "[['SONG', '---', '---', 'PARTY'],\n",
       " ['---', 'BLOOD', '---', '---'],\n",
       " ['STOLE', 'TRAVEL', '---', 'PHOTO'],\n",
       " ['RING', '---', '---', 'RINGS']]"
      ]
     },
     "metadata": {},
     "output_type": "display_data"
    },
    {
     "name": "stdout",
     "output_type": "stream",
     "text": [
      "You have  3  mistakes left.\n",
      "Enter your guesses as numbers: 1 9 16 12\n",
      "['SONG', 'STOLE', 'RINGS', 'PHOTO']\n",
      "\n",
      "\n",
      "One away...\n",
      "You have  2  mistakes left.\n",
      "Enter your guesses as numbers: 1 9 16 4\n",
      "['SONG', 'STOLE', 'RINGS', 'PARTY']\n",
      "\n",
      "\n",
      "One away...\n",
      "You have  1  mistakes left.\n",
      "Enter your guesses as numbers: 1 9 16 6\n",
      "['SONG', 'STOLE', 'RINGS', 'BLOOD']\n",
      "\n",
      "\n",
      "Correct! \n",
      " Inside Jokes: ['RINGS', 'BLOOD', 'SONG', 'STOLE']\n"
     ]
    },
    {
     "data": {
      "text/plain": [
       "[['---', '---', '---', 'PARTY'],\n",
       " ['---', '---', '---', '---'],\n",
       " ['---', 'TRAVEL', '---', 'PHOTO'],\n",
       " ['RING', '---', '---', '---']]"
      ]
     },
     "metadata": {},
     "output_type": "display_data"
    },
    {
     "name": "stdout",
     "output_type": "stream",
     "text": [
      "You have  1  mistakes left.\n",
      "Enter your guesses as numbers: 4 10 12 13\n",
      "['PARTY', 'TRAVEL', 'PHOTO', 'RING']\n",
      "\n",
      "\n",
      "Correct! \n",
      " Gifts Received/Given: ['PHOTO', 'RING', 'TRAVEL', 'PARTY']\n"
     ]
    },
    {
     "data": {
      "text/plain": [
       "[['---', '---', '---', '---'],\n",
       " ['---', '---', '---', '---'],\n",
       " ['---', '---', '---', '---'],\n",
       " ['---', '---', '---', '---']]"
      ]
     },
     "metadata": {},
     "output_type": "display_data"
    },
    {
     "name": "stdout",
     "output_type": "stream",
     "text": [
      "Excellent!\n"
     ]
    },
    {
     "data": {
      "text/plain": [
       "{\"Endings of Places You've Visited\": ['NICE', 'BERG', 'DAM', 'LAND'],\n",
       " 'Inside Jokes': ['RINGS', 'BLOOD', 'SONG', 'STOLE'],\n",
       " 'Gifts Received/Given': ['PHOTO', 'RING', 'TRAVEL', 'PARTY'],\n",
       " 'Things At Your Wedding': ['FLOWERS', 'SWEETS', 'GOLD', 'FIRE']}"
      ]
     },
     "metadata": {},
     "output_type": "display_data"
    },
    {
     "name": "stdout",
     "output_type": "stream",
     "text": [
      "You solved the puzzle, using  3  mistakes.\n"
     ]
    }
   ],
   "source": [
    "#num_mistakes_left = 4 #resetting the value\n",
    "\n",
    "guess_words = []\n",
    "\n",
    "#execute beginning methods\n",
    "board_unshuffled = create_dictionary()\n",
    "presentation_indeces = create_dec_shuffled()\n",
    "quarternary_coords_for_presentation = dec_to_quarternary(presentation_indeces)\n",
    "shuffled_board_final = create_shuffled_board(quarternary_coords_for_presentation)\n",
    "show_intro_board(shuffled_board_final)\n",
    "\n",
    "\n",
    "#run play loop\n",
    "while num_mistakes_left >= 0:\n",
    "\n",
    "    if (num_mistakes_left == 0):\n",
    "        print(\"Next Time!\")\n",
    "        display(board_dict)\n",
    "        break\n",
    "\n",
    "    if (all(element == \"---\" for row in shuffled_board_final for element in row)): #if board is solved\n",
    "         print(\"Excellent!\")\n",
    "         display(board_dict)\n",
    "         print(\"You solved the puzzle, using \", (4 - num_mistakes_left), \" mistakes.\")\n",
    "         break\n",
    "\n",
    "\n",
    "    print(\"You have \", num_mistakes_left, \" mistakes left.\")\n",
    "\n",
    "    guesses = [int(user_guess) for user_guess in input(\"Enter your guesses as numbers: \").split()]\n",
    "    guesses_0_index = [i - 1 for i in guesses]\n",
    "    guesses_0_index\n",
    "\n",
    "    #retrieve elements from the shuffled board to correspond with 0-based indeces\n",
    "    #and place in list\n",
    "    global guess_words\n",
    "    guess_words = [shuffled_board_final[i // 4][i % 4] for i in guesses_0_index]\n",
    "\n",
    "    #if guess words contains a word from a correct guess (---) then ask to enter again\n",
    "    print(guess_words)\n",
    "    if (\"---\" in guess_words):\n",
    "        print(\"Sorry, you cannot use a word from a correct guess in your current guess. Please try again:\\n\")\n",
    "        continue\n",
    "    else:\n",
    "        topic_list = create_topic_list(guess_words, board_dict)\n",
    "        topic_counts = get_topic_freqs(topic_list)\n",
    "        run_mistake_logic(topic_counts, shuffled_board_final) \n",
    "\n",
    "    \n"
   ]
  },
  {
   "cell_type": "code",
   "execution_count": null,
   "id": "e94ce475",
   "metadata": {},
   "outputs": [],
   "source": []
  }
 ],
 "metadata": {
  "kernelspec": {
   "display_name": "Python 3 (ipykernel)",
   "language": "python",
   "name": "python3"
  },
  "language_info": {
   "codemirror_mode": {
    "name": "ipython",
    "version": 3
   },
   "file_extension": ".py",
   "mimetype": "text/x-python",
   "name": "python",
   "nbconvert_exporter": "python",
   "pygments_lexer": "ipython3",
   "version": "3.9.12"
  }
 },
 "nbformat": 4,
 "nbformat_minor": 5
}
